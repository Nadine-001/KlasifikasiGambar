{
  "nbformat": 4,
  "nbformat_minor": 0,
  "metadata": {
    "accelerator": "GPU",
    "colab": {
      "name": "Submission Machine Learning untuk Pemula (Vanessa Sisilia Dewi).ipynb",
      "provenance": [],
      "collapsed_sections": [],
      "include_colab_link": true
    },
    "kernelspec": {
      "display_name": "Python 3",
      "name": "python3"
    }
  },
  "cells": [
    {
      "cell_type": "markdown",
      "metadata": {
        "id": "view-in-github",
        "colab_type": "text"
      },
      "source": [
        "<a href=\"https://colab.research.google.com/github/Nadine-001/KlasifikasiGambar/blob/master/Klasifikasi%20Gambar.ipynb\" target=\"_parent\"><img src=\"https://colab.research.google.com/assets/colab-badge.svg\" alt=\"Open In Colab\"/></a>"
      ]
    },
    {
      "cell_type": "markdown",
      "metadata": {
        "id": "WjaOZvLFdrra"
      },
      "source": [
        "# Submission Kelas \"Belajar Machine Learning untuk Pemula\"\n",
        "# Nama : Vanessa Sisilia Dewi\n",
        "# Domisili : Kota Semarang, Jawa Tengah\n",
        "# Email : na.nadine.001@gmail.com"
      ]
    },
    {
      "cell_type": "code",
      "metadata": {
        "id": "_JaHPaXqdQIw"
      },
      "source": [
        "# mengimpor library yang diperlukan\n",
        "import zipfile, shutil, os\n",
        "import tensorflow as tf\n",
        "from keras.models import Sequential\n",
        "from keras.optimizers import Adam\n",
        "from keras.layers import Conv2D, MaxPooling2D, Dense, Dropout, Flatten, Activation, ReLU\n",
        "from tensorflow.keras.preprocessing.image import ImageDataGenerator"
      ],
      "execution_count": null,
      "outputs": []
    },
    {
      "cell_type": "code",
      "metadata": {
        "colab": {
          "base_uri": "https://localhost:8080/"
        },
        "id": "qEofulAddyJo",
        "outputId": "d085bb8c-78ad-40f6-c1a6-cabc381d863e"
      },
      "source": [
        "# mengimpor dataset\n",
        "!wget --no-check-certificate \\\n",
        "https://dicodingacademy.blob.core.windows.net/picodiploma/ml_pemula_academy/rockpaperscissors.zip \\\n",
        "-O /tmp/rock_paper_scissors.zip"
      ],
      "execution_count": null,
      "outputs": [
        {
          "output_type": "stream",
          "text": [
            "--2021-05-11 11:49:46--  https://dicodingacademy.blob.core.windows.net/picodiploma/ml_pemula_academy/rockpaperscissors.zip\n",
            "Resolving dicodingacademy.blob.core.windows.net (dicodingacademy.blob.core.windows.net)... 52.239.197.36\n",
            "Connecting to dicodingacademy.blob.core.windows.net (dicodingacademy.blob.core.windows.net)|52.239.197.36|:443... connected.\n",
            "HTTP request sent, awaiting response... 200 OK\n",
            "Length: 322873683 (308M) [application/zip]\n",
            "Saving to: ‘/tmp/rock_paper_scissors.zip’\n",
            "\n",
            "/tmp/rock_paper_sci 100%[===================>] 307.92M  15.8MB/s    in 19s     \n",
            "\n",
            "2021-05-11 11:50:05 (16.2 MB/s) - ‘/tmp/rock_paper_scissors.zip’ saved [322873683/322873683]\n",
            "\n"
          ],
          "name": "stdout"
        }
      ]
    },
    {
      "cell_type": "code",
      "metadata": {
        "id": "MTO8EE5Dd0P5"
      },
      "source": [
        "# mengekstrak file\n",
        "local_zip = '/tmp/rock_paper_scissors.zip'\n",
        "zip_ref = zipfile.ZipFile(local_zip, 'r')\n",
        "zip_ref.extractall('/tmp')\n",
        "zip_ref.close()"
      ],
      "execution_count": null,
      "outputs": []
    },
    {
      "cell_type": "code",
      "metadata": {
        "colab": {
          "base_uri": "https://localhost:8080/"
        },
        "id": "VsFsOLSvd3KA",
        "outputId": "3760ced9-b4c0-4008-cbc8-0ccbcac01f56"
      },
      "source": [
        "# mengecek isi directori\n",
        "os.listdir('/tmp/rockpaperscissors')"
      ],
      "execution_count": null,
      "outputs": [
        {
          "output_type": "execute_result",
          "data": {
            "text/plain": [
              "['rps-cv-images', 'README_rpc-cv-images.txt', 'rock', 'scissors', 'paper']"
            ]
          },
          "metadata": {
            "tags": []
          },
          "execution_count": 4
        }
      ]
    },
    {
      "cell_type": "code",
      "metadata": {
        "id": "cjVyVOysd7Bz"
      },
      "source": [
        "base = '/tmp/rockpaperscissors'\n",
        "\n",
        "# menghapus file dan direktori di bawah beserta isinya karena\n",
        "# tidak terlalu penting\n",
        "os.remove(os.path.join(base, 'README_rpc-cv-images.txt'))\n",
        "shutil.rmtree(os.path.join(base, 'rps-cv-images'))\n",
        "\n",
        "# membagi dan membuat direktori\n",
        "train = os.path.join(base, 'train')\n",
        "validation = os.path.join(base, 'val')"
      ],
      "execution_count": null,
      "outputs": []
    },
    {
      "cell_type": "code",
      "metadata": {
        "id": "MnVOu9sMeMf0"
      },
      "source": [
        "# membuat direktori tangan yang membentuk batu pada direktori data training dan\n",
        "# data validasi\n",
        "train_roc = os.path.join(train, 'rock')\n",
        "validation_roc = os.path.join(validation, 'rock')\n",
        " \n",
        "# membuat direktori tangan yang membentuk kertas pada direktori data training dan\n",
        "# data validasi\n",
        "train_pap = os.path.join(train, 'paper')\n",
        "validation_pap = os.path.join(validation, 'paper')\n",
        "\n",
        "# membuat direktori tangan yang membentuk gunting pada direktori data training dan\n",
        "# data validasi\n",
        "train_sci = os.path.join(train, 'scissor')\n",
        "validation_sci = os.path.join(validation, 'scissor')"
      ],
      "execution_count": null,
      "outputs": []
    },
    {
      "cell_type": "code",
      "metadata": {
        "id": "MB9pQPyWfNve"
      },
      "source": [
        "train_datagen = ImageDataGenerator(\n",
        "                    validation_split=0.40,\n",
        "                    rescale=1./255,\n",
        "                    rotation_range=45,\n",
        "                    brightness_range=[0.1,1.0],\n",
        "                    shear_range=0.2,\n",
        "                    zoom_range=0.5,\n",
        "                    horizontal_flip=True,\n",
        "                    vertical_flip=True,\n",
        "                    fill_mode='nearest')\n",
        "\n",
        "test_datagen = ImageDataGenerator(\n",
        "                    validation_split=0.40,\n",
        "                    rescale=1./255,\n",
        "                    rotation_range=45,\n",
        "                    brightness_range=[0.1,1.0],\n",
        "                    shear_range=0.2,\n",
        "                    zoom_range=0.5,\n",
        "                    horizontal_flip=True,\n",
        "                    vertical_flip=True,\n",
        "                    fill_mode='nearest')"
      ],
      "execution_count": null,
      "outputs": []
    },
    {
      "cell_type": "code",
      "metadata": {
        "colab": {
          "base_uri": "https://localhost:8080/"
        },
        "id": "RhdQj4bOXUVN",
        "outputId": "06c12ad8-c76e-4c7d-f2ee-1666da5d2243"
      },
      "source": [
        "# membagi train generator dan validation generator\n",
        "\n",
        "train_gen = train_datagen.flow_from_directory(\n",
        "        base,\n",
        "        target_size=(150,150),\n",
        "        batch_size=32,\n",
        "        color_mode='rgb',\n",
        "        class_mode='categorical',\n",
        "        subset='training')\n",
        " \n",
        "validation_gen = test_datagen.flow_from_directory(\n",
        "        base,\n",
        "        target_size=(150,150),\n",
        "        batch_size=32,\n",
        "        color_mode='rgb',\n",
        "        class_mode='categorical',\n",
        "        subset='validation')"
      ],
      "execution_count": null,
      "outputs": [
        {
          "output_type": "stream",
          "text": [
            "Found 1314 images belonging to 3 classes.\n",
            "Found 874 images belonging to 3 classes.\n"
          ],
          "name": "stdout"
        }
      ]
    },
    {
      "cell_type": "code",
      "metadata": {
        "colab": {
          "base_uri": "https://localhost:8080/"
        },
        "id": "byKpa-tkgCyC",
        "outputId": "ce50c0a9-8cea-495b-f7fa-26365b8031f8"
      },
      "source": [
        "model = tf.keras.models.Sequential()\n",
        "\n",
        "# convolutional layer pertama\n",
        "model.add(Conv2D(32, (3,3), activation='relu', input_shape=(150,150,3)))\n",
        "model.add(Conv2D(32, (3,3), activation='relu'))\n",
        "model.add(MaxPooling2D((2,2)))\n",
        "\n",
        "# convolutional layer kedua\n",
        "model.add(Conv2D(64, (3,3), activation='relu'))\n",
        "model.add(Conv2D(64, (3,3), activation='relu'))\n",
        "model.add(MaxPooling2D((2,2)))\n",
        "\n",
        "# convolutional layer ketiga\n",
        "model.add(Conv2D(128, (3,3), activation='relu'))\n",
        "model.add(Conv2D(128, (3,3), activation='relu'))\n",
        "model.add(MaxPooling2D((2,2)))\n",
        "\n",
        "# convolutional layer keempat\n",
        "model.add(Conv2D(256, (3,3), activation='relu'))\n",
        "model.add(MaxPooling2D((2,2)))\n",
        "\n",
        "model.add(Flatten(input_shape=(150,150,3)))\n",
        "model.add(Dense(256, activation=ReLU(negative_slope=0.5)))\n",
        "model.add(Dense(256, activation=ReLU(negative_slope=0.5)))\n",
        "model.add(Dense(512, activation=ReLU(negative_slope=0.5)))\n",
        "model.add(Dropout(0.3)) \n",
        "model.add(Dense(3, activation='softmax'))\n",
        "\n",
        "model.summary()"
      ],
      "execution_count": null,
      "outputs": [
        {
          "output_type": "stream",
          "text": [
            "Model: \"sequential\"\n",
            "_________________________________________________________________\n",
            "Layer (type)                 Output Shape              Param #   \n",
            "=================================================================\n",
            "conv2d (Conv2D)              (None, 148, 148, 32)      896       \n",
            "_________________________________________________________________\n",
            "conv2d_1 (Conv2D)            (None, 146, 146, 32)      9248      \n",
            "_________________________________________________________________\n",
            "max_pooling2d (MaxPooling2D) (None, 73, 73, 32)        0         \n",
            "_________________________________________________________________\n",
            "conv2d_2 (Conv2D)            (None, 71, 71, 64)        18496     \n",
            "_________________________________________________________________\n",
            "conv2d_3 (Conv2D)            (None, 69, 69, 64)        36928     \n",
            "_________________________________________________________________\n",
            "max_pooling2d_1 (MaxPooling2 (None, 34, 34, 64)        0         \n",
            "_________________________________________________________________\n",
            "conv2d_4 (Conv2D)            (None, 32, 32, 128)       73856     \n",
            "_________________________________________________________________\n",
            "conv2d_5 (Conv2D)            (None, 30, 30, 128)       147584    \n",
            "_________________________________________________________________\n",
            "max_pooling2d_2 (MaxPooling2 (None, 15, 15, 128)       0         \n",
            "_________________________________________________________________\n",
            "conv2d_6 (Conv2D)            (None, 13, 13, 256)       295168    \n",
            "_________________________________________________________________\n",
            "max_pooling2d_3 (MaxPooling2 (None, 6, 6, 256)         0         \n",
            "_________________________________________________________________\n",
            "flatten (Flatten)            (None, 9216)              0         \n",
            "_________________________________________________________________\n",
            "dense (Dense)                (None, 256)               2359552   \n",
            "_________________________________________________________________\n",
            "dense_1 (Dense)              (None, 256)               65792     \n",
            "_________________________________________________________________\n",
            "dense_2 (Dense)              (None, 512)               131584    \n",
            "_________________________________________________________________\n",
            "dropout (Dropout)            (None, 512)               0         \n",
            "_________________________________________________________________\n",
            "dense_3 (Dense)              (None, 3)                 1539      \n",
            "=================================================================\n",
            "Total params: 3,140,643\n",
            "Trainable params: 3,140,643\n",
            "Non-trainable params: 0\n",
            "_________________________________________________________________\n"
          ],
          "name": "stdout"
        }
      ]
    },
    {
      "cell_type": "code",
      "metadata": {
        "id": "icQwy9T8gRlj"
      },
      "source": [
        "model.compile(loss='categorical_crossentropy',\n",
        "              optimizer=Adam(),\n",
        "              metrics=['accuracy'])"
      ],
      "execution_count": null,
      "outputs": []
    },
    {
      "cell_type": "code",
      "metadata": {
        "colab": {
          "base_uri": "https://localhost:8080/"
        },
        "id": "WLkkjMU4gaOX",
        "outputId": "cd258780-c023-4cc0-c5b7-d06ea84754fd"
      },
      "source": [
        "model.fit(\n",
        "     train_gen,\n",
        "     steps_per_epoch=train_gen.n//train_gen.batch_size,\n",
        "     epochs=20,\n",
        "     validation_data=validation_gen,\n",
        "     validation_steps=validation_gen.n//validation_gen.batch_size,\n",
        "     verbose=2)"
      ],
      "execution_count": null,
      "outputs": [
        {
          "output_type": "stream",
          "text": [
            "Epoch 1/20\n",
            "41/41 - 51s - loss: 1.1009 - accuracy: 0.3354 - val_loss: 1.0968 - val_accuracy: 0.3715\n",
            "Epoch 2/20\n",
            "41/41 - 19s - loss: 1.0991 - accuracy: 0.3557 - val_loss: 1.0977 - val_accuracy: 0.3449\n",
            "Epoch 3/20\n",
            "41/41 - 19s - loss: 1.0830 - accuracy: 0.3846 - val_loss: 1.0709 - val_accuracy: 0.4896\n",
            "Epoch 4/20\n",
            "41/41 - 19s - loss: 0.9982 - accuracy: 0.4938 - val_loss: 0.9786 - val_accuracy: 0.5590\n",
            "Epoch 5/20\n",
            "41/41 - 19s - loss: 0.8428 - accuracy: 0.6381 - val_loss: 0.6174 - val_accuracy: 0.7350\n",
            "Epoch 6/20\n",
            "41/41 - 19s - loss: 0.5945 - accuracy: 0.7473 - val_loss: 0.6220 - val_accuracy: 0.7546\n",
            "Epoch 7/20\n",
            "41/41 - 19s - loss: 0.5947 - accuracy: 0.7559 - val_loss: 0.5198 - val_accuracy: 0.8056\n",
            "Epoch 8/20\n",
            "41/41 - 19s - loss: 0.5454 - accuracy: 0.7941 - val_loss: 0.5397 - val_accuracy: 0.7928\n",
            "Epoch 9/20\n",
            "41/41 - 19s - loss: 0.5031 - accuracy: 0.7956 - val_loss: 0.5008 - val_accuracy: 0.7963\n",
            "Epoch 10/20\n",
            "41/41 - 19s - loss: 0.4967 - accuracy: 0.7949 - val_loss: 0.4513 - val_accuracy: 0.8206\n",
            "Epoch 11/20\n",
            "41/41 - 18s - loss: 0.4567 - accuracy: 0.8120 - val_loss: 0.4108 - val_accuracy: 0.8449\n",
            "Epoch 12/20\n",
            "41/41 - 19s - loss: 0.4221 - accuracy: 0.8183 - val_loss: 0.4148 - val_accuracy: 0.8414\n",
            "Epoch 13/20\n",
            "41/41 - 19s - loss: 0.4308 - accuracy: 0.8253 - val_loss: 0.4293 - val_accuracy: 0.8542\n",
            "Epoch 14/20\n",
            "41/41 - 19s - loss: 0.4211 - accuracy: 0.8292 - val_loss: 0.4197 - val_accuracy: 0.8345\n",
            "Epoch 15/20\n",
            "41/41 - 19s - loss: 0.3928 - accuracy: 0.8495 - val_loss: 0.3571 - val_accuracy: 0.8576\n",
            "Epoch 16/20\n",
            "41/41 - 19s - loss: 0.3584 - accuracy: 0.8541 - val_loss: 0.5054 - val_accuracy: 0.8160\n",
            "Epoch 17/20\n",
            "41/41 - 18s - loss: 0.3985 - accuracy: 0.8409 - val_loss: 0.3622 - val_accuracy: 0.8576\n",
            "Epoch 18/20\n",
            "41/41 - 18s - loss: 0.3362 - accuracy: 0.8565 - val_loss: 0.2735 - val_accuracy: 0.8924\n",
            "Epoch 19/20\n",
            "41/41 - 18s - loss: 0.3452 - accuracy: 0.8697 - val_loss: 0.5657 - val_accuracy: 0.8287\n",
            "Epoch 20/20\n",
            "41/41 - 18s - loss: 0.3284 - accuracy: 0.8931 - val_loss: 0.2489 - val_accuracy: 0.9236\n"
          ],
          "name": "stdout"
        },
        {
          "output_type": "execute_result",
          "data": {
            "text/plain": [
              "<tensorflow.python.keras.callbacks.History at 0x7fb82e7b4250>"
            ]
          },
          "metadata": {
            "tags": []
          },
          "execution_count": 11
        }
      ]
    },
    {
      "cell_type": "code",
      "metadata": {
        "id": "-hSVGSnj0oLw"
      },
      "source": [
        "import numpy as np\n",
        "from google.colab import files\n",
        "from keras.preprocessing import image\n",
        "import matplotlib.pyplot as plt\n",
        "import matplotlib.image as mpimg\n",
        "%matplotlib inline\n",
        " \n",
        "uploaded = files.upload()\n",
        " \n",
        "for fn in uploaded.keys():\n",
        " \n",
        "  # predicting images\n",
        "  path = fn\n",
        "  img = image.load_img(path, target_size=(150,150))\n",
        "  imgplot = plt.imshow(img)\n",
        "  x = image.img_to_array(img)\n",
        "  x = np.expand_dims(x, axis=0)\n",
        " \n",
        "  images = np.vstack([x])\n",
        "\n",
        "  resultProb = model.predict(images) \n",
        "  resultLabel = resultProb.argmax(axis=-1)\n",
        "\n",
        "  # printing images based on class\n",
        "  if resultLabel == 0:\n",
        "    plt.title(\"Result: Rock\")\n",
        "  elif resultLabel == 1:\n",
        "    plt.title(\"Result: Paper\")\n",
        "  elif resultLabel == 2:\n",
        "    plt.title(\"Result: Scissor\")"
      ],
      "execution_count": null,
      "outputs": []
    }
  ]
}